{
 "cells": [
  {
   "cell_type": "markdown",
   "metadata": {},
   "source": [
    "# Data Collections 2 (Dictionaries, Sets) and Importing Modules"
   ]
  },
  {
   "cell_type": "code",
   "execution_count": 32,
   "metadata": {},
   "outputs": [
    {
     "name": "stdout",
     "output_type": "stream",
     "text": [
      "[2, 7, 9, 16, 19, 23, 31, 36]\n"
     ]
    }
   ],
   "source": [
    "# White Board Problem\n",
    "# Write a function that takes a single string as argument. The function must return an ordered list containing the indexes of all capital letters in the string.\n",
    "# ex: \"caN yOu FInD me\"\n",
    "# output: [2,5,8,9,11]\n",
    "def capitalListIndex(sentence):\n",
    "    capitals = []\n",
    "    for i in range(len(sentence)):\n",
    "        if sentence[i] == sentence[i].capitalize() and sentence[i] != \" \": # can use .isupper()\n",
    "            capitals.append(i)\n",
    "    return capitals\n",
    "        \n",
    "print(capitalListIndex(\"whEre iN The worLd Is cArmen saN dieGo\"))"
   ]
  },
  {
   "cell_type": "markdown",
   "metadata": {},
   "source": [
    "## Tasks Today:\n",
    "\n",
    "1) Dictionary <br>\n",
    " &nbsp;&nbsp;&nbsp;&nbsp; a) Declaring (key, value) <br>\n",
    " &nbsp;&nbsp;&nbsp;&nbsp; b) Accessing Values <br>\n",
    " &nbsp;&nbsp;&nbsp;&nbsp; ------ Exercise #1 - Print the eye color of each person in a double nested dict <br>\n",
    " &nbsp;&nbsp;&nbsp;&nbsp; c) Adding New Pairs <br>\n",
    " &nbsp;&nbsp;&nbsp;&nbsp; d) Modifying Values <br>\n",
    " &nbsp;&nbsp;&nbsp;&nbsp; e) Removing Key, Value Pairs <br>\n",
    " &nbsp;&nbsp;&nbsp;&nbsp; f) Looping a Dictionary <br>\n",
    " &nbsp;&nbsp;&nbsp;&nbsp; g) Looping Only Keys <br>\n",
    " &nbsp;&nbsp;&nbsp;&nbsp; h) Looping Only Values <br>\n",
    " &nbsp;&nbsp;&nbsp;&nbsp; ------ Exercise #2 - Create a Function that Prints All Key Value Pairs within a print .format()  <br>\n",
    " &nbsp;&nbsp;&nbsp;&nbsp; i) sorted() <br>\n",
    " &nbsp;&nbsp;&nbsp;&nbsp; j) Lists with Dictionaries <br>\n",
    " &nbsp;&nbsp;&nbsp;&nbsp; k) Dictionaries with Lists <br>\n",
    " &nbsp;&nbsp;&nbsp;&nbsp; l) Dictionaries with Dictionaries <br>\n",
    " &nbsp;&nbsp;&nbsp;&nbsp; ------ Exercise #3 - Write a Function that asks someone's name and address, and then stores that into a dictionary, which prints all names and addresses after they're done putting information in...  <br>\n",
    "2) Dictionaries vs. Lists (over time)<br>\n",
    "3) Set <br>\n",
    " &nbsp;&nbsp;&nbsp;&nbsp; a) Declaring <br>\n",
    " &nbsp;&nbsp;&nbsp;&nbsp; b) .add() <br>\n",
    " &nbsp;&nbsp;&nbsp;&nbsp; c) .remove() <br>\n",
    " &nbsp;&nbsp;&nbsp;&nbsp; d) .union() <br>\n",
    " &nbsp;&nbsp;&nbsp;&nbsp; e) .intersection() <br>\n",
    " &nbsp;&nbsp;&nbsp;&nbsp; f) .difference() <br>\n",
    " &nbsp;&nbsp;&nbsp;&nbsp; g) Frozen Set <br>\n",
    "4) Modules <br>\n",
    " &nbsp;&nbsp;&nbsp;&nbsp; a) Importing Entire Modules <br>\n",
    " &nbsp;&nbsp;&nbsp;&nbsp; b) Importing Methods Only <br>\n",
    " &nbsp;&nbsp;&nbsp;&nbsp; c) Using the 'as' Keyword <br>\n",
    " &nbsp;&nbsp;&nbsp;&nbsp; d) Creating a Module <br>\n",
    "5) Exercises <br>\n",
    " &nbsp;&nbsp;&nbsp;&nbsp; a) Build a Shopping Cart <br>\n",
    " &nbsp;&nbsp;&nbsp;&nbsp; b) Create Your Own Module <br>"
   ]
  },
  {
   "cell_type": "markdown",
   "metadata": {},
   "source": [
    "## Dictionary <br>\n",
    "<p>A collection of data with 'key:value' pairs. Dictionaries are ordered as of Python 3.6</p>"
   ]
  },
  {
   "cell_type": "markdown",
   "metadata": {},
   "source": [
    "##### Declaring (key, value)"
   ]
  },
  {
   "cell_type": "code",
   "execution_count": 36,
   "metadata": {},
   "outputs": [
    {
     "name": "stdout",
     "output_type": "stream",
     "text": [
      "{}\n"
     ]
    }
   ],
   "source": [
    "d1 = {}  \n",
    "d2 = dict()\n",
    "d3 = {\n",
    "     'name':'Shoha',\n",
    "     'age':9999,\n",
    "     'grades':[5,5,5,4,5,3],\n",
    "     'classes':{\n",
    "         'van87':True,\n",
    "         'van77':False    \n",
    "     },\n",
    "     0:'some random value'\n",
    "    }\n",
    "type(d1)\n",
    "print(d1)"
   ]
  },
  {
   "cell_type": "markdown",
   "metadata": {},
   "source": [
    "##### Accessing Values"
   ]
  },
  {
   "cell_type": "code",
   "execution_count": 39,
   "metadata": {},
   "outputs": [
    {
     "data": {
      "text/plain": [
       "[5, 5, 5, 4, 5, 3]"
      ]
     },
     "execution_count": 39,
     "metadata": {},
     "output_type": "execute_result"
    }
   ],
   "source": [
    "# dict[key]  v-- index of grades\n",
    "d3['grades'][4]"
   ]
  },
  {
   "cell_type": "markdown",
   "metadata": {},
   "source": [
    "## In-Class Exercise #1 - Print a formatted statement from the dictionary below <br>\n",
    "<p>The output should be '2018 Chevrolet Silverado'</p>"
   ]
  },
  {
   "cell_type": "code",
   "execution_count": 43,
   "metadata": {},
   "outputs": [
    {
     "data": {
      "text/plain": [
       "'I have a 2018 Chevrolet Silverado.'"
      ]
     },
     "execution_count": 43,
     "metadata": {},
     "output_type": "execute_result"
    }
   ],
   "source": [
    "# use the dict below\n",
    "truck = {\n",
    "    'year': 2018,\n",
    "    'make': 'Chevrolet',\n",
    "    'model': 'Silverado'\n",
    "}\n",
    "\n",
    "f\"I have a {truck['year']} {truck['make']} {truck['model']}.\"\n",
    "\n"
   ]
  },
  {
   "cell_type": "markdown",
   "metadata": {},
   "source": [
    "##### Adding New Pairs"
   ]
  },
  {
   "cell_type": "code",
   "execution_count": 48,
   "metadata": {},
   "outputs": [
    {
     "name": "stdout",
     "output_type": "stream",
     "text": [
      "{'name': 'Shoha', 'age': 9999, 'grades': [5, 5, 5, 4, 5, 3], 'classes': {'van87': True, 'van77': False}, 0: 'some random value', 'height': 9}\n"
     ]
    }
   ],
   "source": [
    "d3 = {\n",
    "     'name':'Shoha',\n",
    "     'age':9999,\n",
    "     'grades':[5,5,5,4,5,3],\n",
    "     'classes':{\n",
    "         'van87':True,\n",
    "         'van77':False    \n",
    "     },\n",
    "     0:'some random value'\n",
    "    }\n",
    "\n",
    "d3['height'] = 9  # adding new item\n",
    "print(d3)"
   ]
  },
  {
   "cell_type": "markdown",
   "metadata": {},
   "source": [
    "##### Modifying Values"
   ]
  },
  {
   "cell_type": "code",
   "execution_count": 45,
   "metadata": {},
   "outputs": [
    {
     "name": "stdout",
     "output_type": "stream",
     "text": [
      "{'name': 'Chris', 'age': 9999, 'grades': [5, 5, 5, 4, 5, 3], 'classes': {'van87': True, 'van77': False}, 0: 'some random value', 'height': 9}\n"
     ]
    }
   ],
   "source": [
    "d3['name'] = \"Chris\"\n",
    "print(d3)"
   ]
  },
  {
   "cell_type": "markdown",
   "metadata": {},
   "source": [
    "##### Removing Key, Value Pairs"
   ]
  },
  {
   "cell_type": "code",
   "execution_count": 47,
   "metadata": {},
   "outputs": [
    {
     "name": "stdout",
     "output_type": "stream",
     "text": [
      "{'name': 'Shoha', 'age': 9999, 'grades': [5, 5, 5, 4, 5, 3], 'classes': {'van87': True, 'van77': False}, 0: 'some random value'}\n",
      "{'age': 9999, 'grades': [5, 5, 5, 4, 5, 3], 'classes': {'van87': True, 'van77': False}, 0: 'some random value'}\n"
     ]
    }
   ],
   "source": [
    "# 2 ways to delete\n",
    "d3.pop('height')\n",
    "print(d3)\n",
    "del d3['age']\n",
    "print(d3)"
   ]
  },
  {
   "cell_type": "markdown",
   "metadata": {},
   "source": [
    "##### Looping a Dictionary"
   ]
  },
  {
   "cell_type": "code",
   "execution_count": 51,
   "metadata": {},
   "outputs": [
    {
     "name": "stdout",
     "output_type": "stream",
     "text": [
      "name Shoha\n",
      "age 9999\n",
      "grades [5, 5, 5, 4, 5, 3]\n",
      "classes {'van87': True, 'van77': False}\n",
      "0 some random value\n",
      "height 9\n"
     ]
    }
   ],
   "source": [
    "# index 0 is key index 1 is value\n",
    "# .items()\n",
    "# a, b, c = 1, 2, 3\n",
    "# print(a)\n",
    "# print(b)\n",
    "# print(c)\n",
    "for key,value in d3.items():\n",
    "    print(key, value)\n"
   ]
  },
  {
   "cell_type": "markdown",
   "metadata": {},
   "source": [
    "##### Looping Only Keys"
   ]
  },
  {
   "cell_type": "code",
   "execution_count": 53,
   "metadata": {},
   "outputs": [
    {
     "name": "stdout",
     "output_type": "stream",
     "text": [
      "name\n",
      "age\n",
      "grades\n",
      "classes\n",
      "0\n",
      "height\n"
     ]
    }
   ],
   "source": [
    "# .keys()\n",
    "for key in d3:\n",
    "    print(key)"
   ]
  },
  {
   "cell_type": "markdown",
   "metadata": {},
   "source": [
    "##### Looping Only Values"
   ]
  },
  {
   "cell_type": "code",
   "execution_count": 56,
   "metadata": {},
   "outputs": [
    {
     "name": "stdout",
     "output_type": "stream",
     "text": [
      "Shoha\n",
      "9999\n",
      "[5, 5, 5, 4, 5, 3]\n",
      "{'van87': True, 'van77': False}\n",
      "some random value\n",
      "9\n"
     ]
    }
   ],
   "source": [
    "# .values()\n",
    "for val in d3.values():\n",
    "    print(val)"
   ]
  },
  {
   "cell_type": "markdown",
   "metadata": {},
   "source": [
    "## In-Class Exercise #2 - Create a Function that Prints All Key Value Pairs within a print .format() <br>\n",
    "<p><b>Output should be:</b><br>\n",
    "Max has blue eyes<br>\n",
    "Lilly has brown eyes<br>\n",
    "Barney has blue eyes<br>\n",
    "etc.\n",
    "</p>"
   ]
  },
  {
   "cell_type": "code",
   "execution_count": 62,
   "metadata": {},
   "outputs": [
    {
     "name": "stdout",
     "output_type": "stream",
     "text": [
      "Max has blue eyes.\n",
      "Lilly has brown eyes.\n",
      "Barney has blue eyes.\n",
      "Larney has brown eyes.\n",
      "Ted has purple eyes.\n"
     ]
    }
   ],
   "source": [
    "# use the dict below\n",
    "\n",
    "people = {\n",
    "    'Max': 'blue',\n",
    "    'Lilly': 'brown',\n",
    "    'Barney': 'blue',\n",
    "    'Larney': 'brown',\n",
    "    'Ted': 'purple'\n",
    "}\n",
    "\n",
    "for name, color in people.items():\n",
    "    print(f\"{name} has {color} eyes.\")\n"
   ]
  },
  {
   "cell_type": "markdown",
   "metadata": {},
   "source": [
    "##### sorted()"
   ]
  },
  {
   "cell_type": "code",
   "execution_count": 67,
   "metadata": {},
   "outputs": [
    {
     "name": "stdout",
     "output_type": "stream",
     "text": [
      "[('Barney', 'blue'), ('Larney', 'brown'), ('Lilly', 'brown'), ('Max', 'blue'), ('Ted', 'purple'), ('amy', 'Green')]\n",
      "['Barney', 'Larney', 'Lilly', 'Max', 'Ted', 'amy']\n",
      "['Green', 'blue', 'blue', 'brown', 'brown', 'purple']\n"
     ]
    }
   ],
   "source": [
    "# sorts variables in order - capitals come first and then lower case letters ASCII value\n",
    "# sorted(dict.values()) or dict.keys() or dict.items()\n",
    "\n",
    "people = {\n",
    "    'Max': 'blue',\n",
    "    'Lilly': 'brown',\n",
    "    'Barney': 'blue',\n",
    "    'Larney': 'brown',\n",
    "    'Ted': 'purple',\n",
    "    'amy': 'Green'\n",
    "}\n",
    "\n",
    "print(sorted(people.items()))\n",
    "print(sorted(people.keys()))\n",
    "print(sorted(people.values()))\n",
    "\n"
   ]
  },
  {
   "cell_type": "markdown",
   "metadata": {},
   "source": [
    "##### List with Dictionaries"
   ]
  },
  {
   "cell_type": "code",
   "execution_count": 68,
   "metadata": {},
   "outputs": [
    {
     "name": "stdout",
     "output_type": "stream",
     "text": [
      "Barb\n"
     ]
    }
   ],
   "source": [
    "name = ['Dave', 'Randy', 'Greg', {'random_guy': 'Rob', 'random_gal': 'Barb'}]\n",
    "print(name[3]['random_gal'])"
   ]
  },
  {
   "cell_type": "markdown",
   "metadata": {},
   "source": [
    "##### Dictionaries with Lists"
   ]
  },
  {
   "cell_type": "code",
   "execution_count": 71,
   "metadata": {},
   "outputs": [
    {
     "name": "stdout",
     "output_type": "stream",
     "text": [
      "5.99\n",
      "1.99\n"
     ]
    }
   ],
   "source": [
    "# be careful when using numbers as keys in dictionaries, don't confuse them with indexes\n",
    "food = {\n",
    "    'ice cream': {\n",
    "        'chocolate': 2.99,\n",
    "        'vanilla':3.99,\n",
    "        'oreo':5.99\n",
    "    },\n",
    "    'toppings': {\n",
    "        'sprinkles': .99,\n",
    "        'gummy worm': .99,\n",
    "        'oreo': 1.99\n",
    "    }\n",
    "}\n",
    "print(food['ice cream']['oreo'])\n",
    "print(food['toppings']['oreo'])"
   ]
  },
  {
   "cell_type": "markdown",
   "metadata": {},
   "source": [
    "##### Dictionaries with Dictionaries"
   ]
  },
  {
   "cell_type": "code",
   "execution_count": null,
   "metadata": {},
   "outputs": [],
   "source": [
    "# to get values, must traverse through keys\n",
    "\n"
   ]
  },
  {
   "cell_type": "markdown",
   "metadata": {},
   "source": [
    "## Dictionaries vs. Lists (over time) Example of RUNTIME\n",
    "### When inputting values in a Dictionary vs List"
   ]
  },
  {
   "cell_type": "code",
   "execution_count": 75,
   "metadata": {},
   "outputs": [],
   "source": [
    "import time\n",
    "\n",
    "\n",
    "# generate fake dictionary\n",
    "d = {}\n",
    "\n",
    "for i in range(10000000):\n",
    "    d[i] = 'value'\n",
    "    \n",
    "\n",
    "# generate fake list\n",
    "big_list = [x for x in range(10000000)]"
   ]
  },
  {
   "cell_type": "code",
   "execution_count": 76,
   "metadata": {},
   "outputs": [
    {
     "name": "stdout",
     "output_type": "stream",
     "text": [
      "value\n",
      "Elapsed time for dictionary: 0.0\n",
      "9999999\n",
      "Elapsed time for list: 0.3257789611816406\n"
     ]
    }
   ],
   "source": [
    "# tracking time for dictionary\n",
    "start_time = time.time()\n",
    "\n",
    "print(d[9999999])\n",
    "\n",
    "end_time = time.time() - start_time\n",
    "\n",
    "print('Elapsed time for dictionary: {}'.format(end_time))\n",
    "\n",
    "\n",
    "# tracking time for list\n",
    "start_time = time.time()\n",
    "\n",
    "for i in range(len(big_list)):\n",
    "    if i == 9999999:\n",
    "        print(i)\n",
    "\n",
    "end_time = time.time() - start_time\n",
    "\n",
    "print('Elapsed time for list: {}'.format(end_time))"
   ]
  },
  {
   "cell_type": "markdown",
   "metadata": {},
   "source": [
    "## Exercise #3 - Write a Function that asks someone's name and address, and then stores that into a dictionary, and continues to do so until they choose to 'quit'. Once they quit, the program should print all names and addresses. <br>\n",
    "<p>\n",
    "<b>Proper steps:</b><br>\n",
    "step 1: write a function that takes in information and stores it in a dictionary<br>\n",
    "step 2: define an empty dictionary to work with<br>\n",
    "step 3: create our loop, which asks the user for information until they quit<br>\n",
    "step 4: ask for the information, and store it into variables<br>\n",
    "step 5: check if the user types quit<br>\n",
    "step 5a: print out all information<br>\n",
    "step 5b: break out of the loop<br>\n",
    "step 6: if they didn't quit, add the information to the dictionary<br>\n",
    "step 7: invoke the function by calling it\n",
    "</p>"
   ]
  },
  {
   "cell_type": "code",
   "execution_count": 88,
   "metadata": {},
   "outputs": [
    {
     "name": "stdout",
     "output_type": "stream",
     "text": [
      "{'hi ': '123'}\n"
     ]
    }
   ],
   "source": [
    "#from IPython.display import clear_output\n",
    "def getPhoneBook():\n",
    "    phonebook = {}\n",
    "\n",
    "    #phonebook[name_new] = address_new\n",
    "    #for name, address in phonebook.items():\n",
    "    #    while phonebook.keys() != 'quit' and phonebook.values() != 'quit':\n",
    "    #        name_new = input(\"What is your name? \")\n",
    "    #        address_new = input('What is your address? ')\n",
    "    #        phonebook[name_new] = address_new\n",
    "\n",
    "    while True:\n",
    "        name_new = input(\"What is your name? \")\n",
    "        if name_new == 'quit':\n",
    "            print(phonebook)\n",
    "            break\n",
    "        address_new = input('What is your address? ')\n",
    "        phonebook[name_new] = address_new\n",
    "\n",
    "getPhoneBook()"
   ]
  },
  {
   "cell_type": "code",
   "execution_count": 139,
   "metadata": {},
   "outputs": [
    {
     "name": "stdout",
     "output_type": "stream",
     "text": [
      "{'chris': '156'}\n"
     ]
    },
    {
     "data": {
      "text/plain": [
       "{'chris': '156'}"
      ]
     },
     "execution_count": 139,
     "metadata": {},
     "output_type": "execute_result"
    }
   ],
   "source": [
    "# another way to do address book with multiple functions\n",
    "from IPython.display import clear_output # starts fresh\n",
    "def getName():\n",
    "    name = input('What is your name? ')\n",
    "    return name\n",
    "\n",
    "def getAddy():\n",
    "    addy = input('What is your address? ')\n",
    "    return addy\n",
    "\n",
    "def getInfo():\n",
    "    database = {}\n",
    "    while True:\n",
    "        answer = input('What do you want to do? Type \"Add\" to add entry or \"Quit\" to exit. (Add/Quit)')\n",
    "\n",
    "        if answer.lower() == 'add':\n",
    "            database[getName()] = getAddy()\n",
    "        elif answer.lower() == 'quit':\n",
    "            break\n",
    "        else:\n",
    "            print('Invalid response, please type \"Add\" or \"Quit\"')\n",
    "    print(database)\n",
    "    return database\n",
    "\n",
    "getInfo()\n",
    "\n",
    "\n",
    "    "
   ]
  },
  {
   "cell_type": "markdown",
   "metadata": {},
   "source": [
    "## Set <br>\n",
    "<p>A Set is an unordered collection data type that is iterable (loop), mutable, and has no duplicate elements.<br>Major advantage is that it is highly optimized in checking if something is in the set, as opposed to checking if something is in a list.</p>"
   ]
  },
  {
   "cell_type": "markdown",
   "metadata": {},
   "source": [
    "##### Declaring"
   ]
  },
  {
   "cell_type": "code",
   "execution_count": 92,
   "metadata": {},
   "outputs": [
    {
     "name": "stdout",
     "output_type": "stream",
     "text": [
      "<class 'set'>\n",
      "{1, 2, 3, 4, 5, 6, 7, 8}\n"
     ]
    }
   ],
   "source": [
    "# set() or {}\n",
    "# no order {3, 2, 1} outputs as {1, 2, 3} cannot index a set\n",
    "s1 = {1,2,3,4,5,6,7,8}\n",
    "empty_set = set() # can't do empty_set = {} or it will create a dictionary\n",
    "print(type(s1))\n",
    "print(s1)"
   ]
  },
  {
   "cell_type": "markdown",
   "metadata": {},
   "source": [
    "##### .add()"
   ]
  },
  {
   "cell_type": "code",
   "execution_count": 94,
   "metadata": {},
   "outputs": [
    {
     "name": "stdout",
     "output_type": "stream",
     "text": [
      "{3, 4, 7, 40, 14}\n"
     ]
    }
   ],
   "source": [
    "# set.add()\n",
    "empty_set.add(4)\n",
    "empty_set.add(4)\n",
    "empty_set.add(14)\n",
    "empty_set.add(40)\n",
    "empty_set.add(7)\n",
    "empty_set.add(3)\n",
    "print(empty_set)"
   ]
  },
  {
   "cell_type": "markdown",
   "metadata": {},
   "source": [
    "##### .remove()"
   ]
  },
  {
   "cell_type": "code",
   "execution_count": 95,
   "metadata": {},
   "outputs": [
    {
     "name": "stdout",
     "output_type": "stream",
     "text": [
      "{3, 4, 7, 14}\n"
     ]
    }
   ],
   "source": [
    "# removes by value\n",
    "# set.remove()\n",
    "# nums.remove(56)\n",
    "empty_set.remove(40)\n",
    "print(empty_set)\n"
   ]
  },
  {
   "cell_type": "markdown",
   "metadata": {},
   "source": [
    "##### .union() "
   ]
  },
  {
   "cell_type": "code",
   "execution_count": 101,
   "metadata": {},
   "outputs": [
    {
     "name": "stdout",
     "output_type": "stream",
     "text": [
      "{1, 2, 3, 4, 5, 6, 7, 8}\n"
     ]
    }
   ],
   "source": [
    "# Returns a union of two sets, can also use '|' or set.union(set)\n",
    "# joins all numbers, gets rid of duplicates\n",
    "s1 = {1,2,3,4}\n",
    "s2 = {5,6,7,8}\n",
    "\n",
    "s3 = s1.union(s2)\n",
    "print(s3)"
   ]
  },
  {
   "cell_type": "markdown",
   "metadata": {},
   "source": [
    "##### .intersection()"
   ]
  },
  {
   "cell_type": "code",
   "execution_count": 112,
   "metadata": {},
   "outputs": [
    {
     "name": "stdout",
     "output_type": "stream",
     "text": [
      "{3, 4}\n",
      "{3, 4}\n"
     ]
    }
   ],
   "source": [
    "# Returns an intersection of two sets, can also use '&'\n",
    "# only takes similar elements from both sets\n",
    "s1 = {1,2,3,4}\n",
    "s2 = {3,4,5,6}\n",
    "\n",
    "s5 = s2 & s1\n",
    "\n",
    "s6 = s1.intersection(s2)\n",
    "\n",
    "print(s5)\n",
    "print(s6)\n"
   ]
  },
  {
   "cell_type": "markdown",
   "metadata": {},
   "source": [
    "##### .difference()"
   ]
  },
  {
   "cell_type": "code",
   "execution_count": 114,
   "metadata": {},
   "outputs": [
    {
     "name": "stdout",
     "output_type": "stream",
     "text": [
      "{1, 2, 3, 4}\n",
      "{3, 4, 5, 6}\n",
      "{5, 6}\n",
      "{1, 2}\n"
     ]
    }
   ],
   "source": [
    "# Returns a set containing all the elements of invoking set that are not in the second set, can also use '-'\n",
    "# only takes values from the first set that are not in the second set\n",
    "# order matters\n",
    "s1 = {1,2,3,4}\n",
    "s2 = {3,4,5,6}\n",
    "\n",
    "s7 = s2 - s1\n",
    "\n",
    "# OR\n",
    "\n",
    "s8 = s1.difference(s2)\n",
    "\n",
    "print(s1)\n",
    "print(s2)\n",
    "print(s7)\n",
    "print(s8)\n"
   ]
  },
  {
   "cell_type": "markdown",
   "metadata": {},
   "source": [
    "##### .clear()"
   ]
  },
  {
   "cell_type": "code",
   "execution_count": null,
   "metadata": {},
   "outputs": [],
   "source": [
    "# Empties the whole set\n",
    "# set.clear()\n",
    "s8.clear()\n",
    "\n",
    "print(s8)"
   ]
  },
  {
   "cell_type": "markdown",
   "metadata": {},
   "source": [
    "##### Frozenset <br>\n",
    "<p>Frozen sets are immutable objects that only support methods and operators that produce a result without affecting the frozen set or sets to which they are applied.</p><br><b>Unique & Immutable</b>"
   ]
  },
  {
   "cell_type": "code",
   "execution_count": null,
   "metadata": {},
   "outputs": [],
   "source": [
    "# frozenset([])\n",
    "my_frozen_set = frozenset(s3)\n",
    "\n",
    "print(my_frozen_set)\n",
    "\n",
    "my_frozen_set.add(56)"
   ]
  },
  {
   "cell_type": "markdown",
   "metadata": {},
   "source": [
    "## Modules"
   ]
  },
  {
   "cell_type": "markdown",
   "metadata": {},
   "source": [
    "##### Importing Entire Modules"
   ]
  },
  {
   "cell_type": "code",
   "execution_count": 117,
   "metadata": {},
   "outputs": [
    {
     "name": "stdout",
     "output_type": "stream",
     "text": [
      "3.141592653589793\n"
     ]
    }
   ],
   "source": [
    "# import or from 'xxx' import *\n",
    "# import math\n",
    "import math\n",
    "print(math.pi)\n"
   ]
  },
  {
   "cell_type": "markdown",
   "metadata": {},
   "source": [
    "##### Importing Methods Only"
   ]
  },
  {
   "cell_type": "code",
   "execution_count": 121,
   "metadata": {},
   "outputs": [
    {
     "name": "stdout",
     "output_type": "stream",
     "text": [
      "8\n",
      "3.141592653589793\n"
     ]
    }
   ],
   "source": [
    "# from 'xxx' import 'xxx'\n",
    "# from math import floor\n",
    "from math import ceil, pi\n",
    "\n",
    "print(ceil(7.7))\n",
    "\n",
    "print(pi)\n",
    "\n"
   ]
  },
  {
   "cell_type": "markdown",
   "metadata": {},
   "source": [
    "##### Using the 'as' Keyword"
   ]
  },
  {
   "cell_type": "code",
   "execution_count": 122,
   "metadata": {},
   "outputs": [
    {
     "name": "stdout",
     "output_type": "stream",
     "text": [
      "10\n"
     ]
    }
   ],
   "source": [
    "# from 'xxx' import 'xxx' as 'xxx' or import 'xxx' as 'xxx'\n",
    "# from math import floor as f\n",
    "from math import ceil as c\n",
    "print(c(9.9))"
   ]
  },
  {
   "cell_type": "markdown",
   "metadata": {},
   "source": [
    "##### Creating a Module"
   ]
  },
  {
   "cell_type": "code",
   "execution_count": 178,
   "metadata": {},
   "outputs": [],
   "source": [
    "\n",
    "#import shoha\n",
    "#from shoha import funk2\n",
    "\n",
    "#print(shoha.shohasFunk())\n",
    "#funk2()"
   ]
  },
  {
   "cell_type": "markdown",
   "metadata": {},
   "source": [
    "# Exercises"
   ]
  },
  {
   "cell_type": "markdown",
   "metadata": {},
   "source": [
    "### 1) Build a Shopping Cart <br>\n",
    "<p><b>You can use either lists or dictionaries. The program should have the following capabilities:</b><br><br>\n",
    "1) Takes in input <br>\n",
    "2) Stores user input into a dictionary or list <br>\n",
    "3) The User can add or delete items <br>\n",
    "4) The User can see current shopping list <br>\n",
    "5) The program Loops until user 'quits' <br>\n",
    "6) Upon quiting the program, print out all items in the user's list <br>\n",
    "</p>"
   ]
  },
  {
   "cell_type": "code",
   "execution_count": 3,
   "metadata": {},
   "outputs": [
    {
     "name": "stdout",
     "output_type": "stream",
     "text": [
      "       _\n",
      "    \\________       Welcome\n",
      " ~   \\######/         to the\n",
      "  ~   |####/            Shopping Cart\n",
      " ~    |____.              Express\n",
      "______o____o_____ \n",
      "Create a Shopping List\n",
      "\n",
      "______________\n",
      "Shopping List: \n",
      "\n",
      "\n",
      "_______________________________________________________\n",
      "Thank you for using this app, enjoy your shopping trip!\n"
     ]
    }
   ],
   "source": [
    "from IPython.display import clear_output\n",
    "\n",
    "# Ask the user four bits of input: Do you want to : Show/Add/Delete or Quit?\n",
    "\n",
    "# defines options menu for the user to use\n",
    "def chooseOption():\n",
    "    action = input(\n",
    "            'Please choose from the following options:\\n'\n",
    "            '\\t(A)dd    - Adds an item to your cart.\\n'\n",
    "            '\\t(R)emove - Removes an item from the cart.\\n'\n",
    "            '\\t(S)how   - Shows all items in cart.\\n'\n",
    "            '\\t(Q)uit   - Quit and print out shopping list\\n'\n",
    "            'Option > '\n",
    "            )\n",
    "    return action\n",
    "\n",
    "# asks for item to add to cart\n",
    "def getItem():\n",
    "    item = input(\n",
    "            '\\n'\n",
    "            '(O) to return to Options, keep adding items.\\n'\n",
    "            'What would you like to ADD to your cart? '\n",
    "        )\n",
    "    return item\n",
    "\n",
    "# function to ask for an item to remove\n",
    "def removeItem():\n",
    "    removed_item = input(\n",
    "        '\\n'\n",
    "        '(O) to return to Options, keep removing items.\\n'\n",
    "        'What item would you like to REMOVE from your cart? '\n",
    "        )\n",
    "    return removed_item\n",
    "\n",
    "\n",
    "def shoppingCartExpress():\n",
    "    # nice little banner\n",
    "    print(\n",
    "    '       _\\n'\n",
    "    '    \\________       Welcome\\n'\n",
    "    ' ~   \\######/         to the\\n'       \n",
    "    '  ~   |####/            Shopping Cart\\n'\n",
    "    ' ~    |____.              Express\\n'\n",
    "    '______o____o_____ \\n'\n",
    "    'Create a Shopping List\\n'\n",
    "    )\n",
    "\n",
    "    # empty string for items in cart\n",
    "    cart_items = []\n",
    "    # blank action value\n",
    "\n",
    "\n",
    "    # program brains\n",
    "    while True:\n",
    "        \n",
    "        # asks user to choose an option and sets it equal to action\n",
    "        option = chooseOption()\n",
    "\n",
    "        # prints the list\n",
    "        if option.lower() == 's':\n",
    "            if not cart_items: # print another message if the list is empty\n",
    "                print(\n",
    "                    '\\n'\n",
    "                    '--- Nothing in cart, please add items. ---'\n",
    "                    '\\n'\n",
    "                    )\n",
    "            else:\n",
    "                print('______________')\n",
    "                print(\n",
    "                    'Shopping List: \\n',\n",
    "                    #*cart_items, sep = \"\\n\"\n",
    "                )\n",
    "                for x in range(len(cart_items)):\n",
    "                    print(f\"-{cart_items[x].title()}\")\n",
    "                print('____________________')\n",
    "        # add option\n",
    "        elif option.lower() == 'a':\n",
    "            temp_item = ''\n",
    "            while temp_item != 'o': # argument to keep repeating as long as item entered isn't 'O'\n",
    "                temp_item = getItem()\n",
    "                if temp_item in cart_items:\n",
    "                    print(\n",
    "                        '\\n'\n",
    "                        '--- Item already in cart, please enter a new option. ---' # could build out later to include an option to enter another item\n",
    "                        '\\n'\n",
    "                        )\n",
    "                elif temp_item == '': # deals with user not entering anything\n",
    "                    print(\n",
    "                        '\\n'\n",
    "                        '--- Please enter an item to ADD. ---'\n",
    "                        )\n",
    "                else:\n",
    "                    cart_items.append(temp_item.strip()) # added strip to remove extra spaces before and after item entered\n",
    "            cart_items.remove('o') # removes the 'o' that is entered before heading to options menu\n",
    "        # remove option\n",
    "        elif option.lower() == 'r':\n",
    "            temp_remove = ''\n",
    "            while temp_remove != 'o': # argument to keep repeating as long as item entered isn't 'O'\n",
    "                temp_remove = removeItem()\n",
    "                if temp_remove in cart_items:\n",
    "                    cart_items.remove(temp_remove.strip()) # added strip to remove extra spaces before and after item entered\n",
    "                elif temp_remove == '': # deals with user not entering anything\n",
    "                    print(\n",
    "                        '\\n'\n",
    "                        '--- Please enter an item to REMOVE. ---'\n",
    "                        )\n",
    "                else:\n",
    "                    print(\n",
    "                        '\\n'\n",
    "                        '--- Item not in cart, please enter a new option. ---' # could build out later to include an option to enter another item\n",
    "                        '\\n'\n",
    "                        )\n",
    "        elif option.lower() == 'q':\n",
    "            print('______________')\n",
    "            print(\n",
    "                'Shopping List: \\n',\n",
    "                    #*cart_items, sep = \"\\n\"\n",
    "            )\n",
    "            for x in range(len(cart_items)):\n",
    "                print(f\"-{cart_items[x].title()}\")\n",
    "            print(\n",
    "                '\\n'\n",
    "                '_______________________________________________________\\n'\n",
    "                'Thank you for using this app, enjoy your shopping trip!'\n",
    "                )\n",
    "            break\n",
    "\n",
    "            \n",
    "shoppingCartExpress()\n"
   ]
  },
  {
   "cell_type": "markdown",
   "metadata": {},
   "source": [
    "### 2) Create a Module in VS Code and Import It into jupyter notebook <br>\n",
    "<p><b>Module should have the following capabilities:</b><br><br>\n",
    "1) Has a function to calculate the square footage of a house <br>\n",
    "    <b>Reminder of Formula: Length X Width == Area<br>\n",
    "        <hr>\n",
    "2) Has a function to calculate the circumference of a circle <br><br>\n",
    "<b>Program in Jupyter Notebook should take in user input and use imported functions to calculate a circle's circumference or a houses square footage</b>\n",
    "</p>"
   ]
  },
  {
   "cell_type": "code",
   "execution_count": 11,
   "metadata": {},
   "outputs": [
    {
     "name": "stdout",
     "output_type": "stream",
     "text": [
      "The circumference of your circle is 18.849555921540002 inches.\n"
     ]
    }
   ],
   "source": [
    "from IPython.display import clear_output\n",
    "\n",
    "import math\n",
    "from math import pi as p\n",
    "import formulas\n",
    "from formulas import getRadius\n",
    "p = 3.14 # couldn't get pi to import so just used the basic value of pi\n",
    "\n",
    "def getCircum():\n",
    "    r = int(getRadius())\n",
    "    circum = (2 * p * r)\n",
    "    print(f'The circumference of your circle is {circum} inches.')    \n",
    "\n",
    "getCircum()\n",
    "\n",
    "\n",
    "\n"
   ]
  }
 ],
 "metadata": {
  "kernelspec": {
   "display_name": "Python 3 (ipykernel)",
   "language": "python",
   "name": "python3"
  },
  "language_info": {
   "codemirror_mode": {
    "name": "ipython",
    "version": 3
   },
   "file_extension": ".py",
   "mimetype": "text/x-python",
   "name": "python",
   "nbconvert_exporter": "python",
   "pygments_lexer": "ipython3",
   "version": "3.9.10"
  }
 },
 "nbformat": 4,
 "nbformat_minor": 2
}
